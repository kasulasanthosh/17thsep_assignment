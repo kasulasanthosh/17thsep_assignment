{
 "cells": [
  {
   "cell_type": "code",
   "execution_count": 13,
   "id": "23b956e0-9a32-4bba-9f22-b87220287cae",
   "metadata": {},
   "outputs": [
    {
     "name": "stdout",
     "output_type": "stream",
     "text": [
      "1 2 3 4 5 6 7 8 9 10 "
     ]
    }
   ],
   "source": [
    "'''For Loop\n",
    "1.Write a Python program to print numbers from 1 to 10 using a for loop'''\n",
    "for i in range(1,11):\n",
    "    print(i,end=\" \")"
   ]
  },
  {
   "cell_type": "code",
   "execution_count": null,
   "id": "d863f0c5-9ccb-4d65-9e4f-e75ac5b213b2",
   "metadata": {},
   "outputs": [],
   "source": [
    "# 2. the difference between a for loop and a while loop in Python.\n",
    "For loop is used to iterate over a sequence of items. \n",
    "While loop is used to repeatedly execute a block of statements while a condition is true. \n"
   ]
  },
  {
   "cell_type": "code",
   "execution_count": 4,
   "id": "ad39b47f-0f1d-438c-951d-e23c90920d96",
   "metadata": {},
   "outputs": [
    {
     "name": "stdout",
     "output_type": "stream",
     "text": [
      "the sumof all numbers is: 5050\n"
     ]
    }
   ],
   "source": [
    "#3. Write a Python program to calculate the sum of all numbers from 1 to 100 using a for loop.\n",
    "sumof=0\n",
    "for i in range(1,101):\n",
    "    sumof=sumof+i\n",
    "print(\"the sumof all numbers is:\",sumof)"
   ]
  },
  {
   "cell_type": "code",
   "execution_count": 6,
   "id": "1c8667cb-61cd-462b-9418-6cb0ef8a0a28",
   "metadata": {},
   "outputs": [
    {
     "name": "stdout",
     "output_type": "stream",
     "text": [
      "pwskills\n",
      "pw\n",
      "santhosh\n"
     ]
    }
   ],
   "source": [
    "#4. How do you iterate through a list using a for loop in Python?\n",
    "l=[\"pwskills\",\"pw\",\"santhosh\"]\n",
    "for i in l:\n",
    "    print(i)"
   ]
  },
  {
   "cell_type": "code",
   "execution_count": 9,
   "id": "69482618-b8b9-4dd9-8a6a-5b1409b83e61",
   "metadata": {},
   "outputs": [
    {
     "name": "stdout",
     "output_type": "stream",
     "text": [
      "the product of all elements in a list is: 120\n"
     ]
    }
   ],
   "source": [
    "# 5. Write a Python program to find the product of all elements in a list using a for loop.\n",
    "l1=[1,2,3,4,5]\n",
    "\n",
    "product=1\n",
    "for i in l1:\n",
    "    product=product*i\n",
    "print(\"the product of all elements in a list is:\",product)"
   ]
  },
  {
   "cell_type": "code",
   "execution_count": 17,
   "id": "5602d064-073f-4410-b34b-b81303878a04",
   "metadata": {},
   "outputs": [
    {
     "name": "stdout",
     "output_type": "stream",
     "text": [
      "2 4 6 8 10 12 14 16 18 20 "
     ]
    }
   ],
   "source": [
    "#6. Create a Python program that prints all even numbers from 1 to 20 using a for loop.\n",
    "for i in range(1,21):\n",
    "    if i%2==0:\n",
    "        print(i,end=\" \")"
   ]
  },
  {
   "cell_type": "code",
   "execution_count": 20,
   "id": "f7787020-8968-42bf-86ae-d34145b5a97b",
   "metadata": {},
   "outputs": [
    {
     "name": "stdin",
     "output_type": "stream",
     "text": [
      "enter a number 5\n"
     ]
    },
    {
     "name": "stdout",
     "output_type": "stream",
     "text": [
      "120\n"
     ]
    }
   ],
   "source": [
    "# 7. Write a Python program that calculates the factorial of a number using a for loop.\n",
    "n=int(input(\"enter a number\"))\n",
    "fact=1\n",
    "for i in range(1,n+1):\n",
    "    fact=fact*i\n",
    "print(fact)"
   ]
  },
  {
   "cell_type": "code",
   "execution_count": 1,
   "id": "74e31ec4-a7cf-443b-ba79-d6bd3c937b9d",
   "metadata": {},
   "outputs": [
    {
     "name": "stdout",
     "output_type": "stream",
     "text": [
      " \n",
      "i\n",
      " \n",
      "a\n",
      "m\n",
      " \n",
      "l\n",
      "e\n",
      "a\n",
      "r\n",
      "i\n",
      "n\n",
      "g\n",
      " \n",
      "p\n",
      "y\n",
      "t\n",
      "h\n",
      "o\n",
      "n\n"
     ]
    }
   ],
   "source": [
    "# 8. How can you iterate through the characters of a string using a for loop in Python?\n",
    "my_string=\" i am learing python\"\n",
    "for i in my_string:\n",
    "    print(i)"
   ]
  },
  {
   "cell_type": "code",
   "execution_count": 35,
   "id": "e6a32404-09aa-4517-8d11-de91c852c538",
   "metadata": {},
   "outputs": [
    {
     "name": "stdout",
     "output_type": "stream",
     "text": [
      "the largest number is : 58\n"
     ]
    }
   ],
   "source": [
    "#9. Write a Python program to find the largest number in a list using a for loop.\n",
    "l3=[3,4,5,2,+58]\n",
    "ln=l3[0] if l3 else None\n",
    "for i in l3:\n",
    "    if i>ln:\n",
    "        ln=i\n",
    "print(\"the largest number is :\",ln)"
   ]
  },
  {
   "cell_type": "code",
   "execution_count": 36,
   "id": "18167d75-50b7-4a8c-bae8-e8876bc69275",
   "metadata": {},
   "outputs": [
    {
     "name": "stdin",
     "output_type": "stream",
     "text": [
      "enter a limit: 6\n"
     ]
    },
    {
     "name": "stdout",
     "output_type": "stream",
     "text": [
      "Fibonacci Series: 0 1 1 2 3 5 "
     ]
    }
   ],
   "source": [
    "# 10.Create a Python program that prints the Fibonacci sequence up to a specified limit using a for loop.\n",
    "num = int(input(\"enter a limit:\"))\n",
    "n1, n2 = 0, 1\n",
    "print(\"Fibonacci Series:\", n1, n2, end=\" \")\n",
    "for i in range(2, num):\n",
    "    n3 = n1 + n2\n",
    "    n1 = n2\n",
    "    n2 = n3\n",
    "    print(n3, end=\" \")"
   ]
  },
  {
   "cell_type": "code",
   "execution_count": 38,
   "id": "13753a8a-f16a-4d62-9d72-98795ee6bfbe",
   "metadata": {},
   "outputs": [
    {
     "name": "stdout",
     "output_type": "stream",
     "text": [
      "the number of vowels are: 5\n"
     ]
    }
   ],
   "source": [
    "# 11.Write a Python program to count the number of vowels in a given string using a for loop.\n",
    "s5=\"my name is santhosh\"\n",
    "vowel=0\n",
    "for v in s5:\n",
    "    if(v=='a'or v=='e'or v=='i'or v=='o'or v=='u'or v=='A'or v=='E'or v=='I' or v=='O' or v=='U'):\n",
    "        vowel=vowel+1\n",
    "print(\"the number of vowels are:\",vowel)"
   ]
  },
  {
   "cell_type": "code",
   "execution_count": 45,
   "id": "a2de5385-23c6-4c05-9582-5f63562283e3",
   "metadata": {},
   "outputs": [
    {
     "name": "stdin",
     "output_type": "stream",
     "text": [
      "enter a number 5\n"
     ]
    },
    {
     "name": "stdout",
     "output_type": "stream",
     "text": [
      "5 * 1 = 5\n",
      "5 * 2 = 10\n",
      "5 * 3 = 15\n",
      "5 * 4 = 20\n",
      "5 * 5 = 25\n",
      "5 * 6 = 30\n",
      "5 * 7 = 35\n",
      "5 * 8 = 40\n",
      "5 * 9 = 45\n",
      "5 * 10 = 50\n"
     ]
    }
   ],
   "source": [
    "# 12.Create a Python program that generates a multiplication table for a given number using a for loop.\n",
    "n=int(input(\"enter a number\"))\n",
    "tablerange=range(1,11)\n",
    "for i in tablerange:\n",
    "    result=n*i\n",
    "    print(n,\"*\",i,\"=\",result)"
   ]
  },
  {
   "cell_type": "code",
   "execution_count": 2,
   "id": "a784fa76-2195-4ba0-96a0-21a03732f34c",
   "metadata": {},
   "outputs": [
    {
     "name": "stdout",
     "output_type": "stream",
     "text": [
      "[8, 7, 5, 3]\n"
     ]
    }
   ],
   "source": [
    "# 13.Write a Python program to reverse a list using a for loop.\n",
    "l=[3,5,7,8]\n",
    "newlist=[]\n",
    "for i in l:\n",
    "    newlist=[i]+newlist\n",
    "print(newlist)"
   ]
  },
  {
   "cell_type": "code",
   "execution_count": 5,
   "id": "7238c226-3eda-4d74-a0d1-7320777882f6",
   "metadata": {},
   "outputs": [
    {
     "name": "stdout",
     "output_type": "stream",
     "text": [
      "common elements [3, 4, 5, 'don']\n"
     ]
    }
   ],
   "source": [
    "#14.Write a Python program to find the common elements between two lists using a for loop.\n",
    "l6=[1,2,3,4,5,\"don\"]\n",
    "l7=[7,6,5,4,3,\"don\"]\n",
    "commonlist=[]\n",
    "for x in l6:\n",
    "    if x in l7:\n",
    "        commonlist.append(x)\n",
    "print(\"common elements\",commonlist)"
   ]
  },
  {
   "cell_type": "code",
   "execution_count": 4,
   "id": "17c1c310-ef31-4c8c-84aa-1b12fa2a23a3",
   "metadata": {},
   "outputs": [
    {
     "name": "stdout",
     "output_type": "stream",
     "text": [
      "a : 1\n",
      "b : 2\n",
      "c : 3\n"
     ]
    }
   ],
   "source": [
    "# 15.Explain how to use a for loop to iterate through the keys and values of a dictionary in Python.\n",
    "dictionary={\"a\":1,\"b\":2,\"c\":3}\n",
    "for keys, values in dictionary.items():\n",
    "    print(keys,\":\",values)\n"
   ]
  },
  {
   "cell_type": "code",
   "execution_count": 8,
   "id": "a0a3908c-0e4f-4afe-883d-5555ab6df7e7",
   "metadata": {},
   "outputs": [
    {
     "name": "stdin",
     "output_type": "stream",
     "text": [
      "enter a number 25\n",
      "enter the another number 15\n"
     ]
    },
    {
     "name": "stdout",
     "output_type": "stream",
     "text": [
      "the gcd of x and y is: 5\n"
     ]
    }
   ],
   "source": [
    "#16.Write a Python program to find the GCD (Greatest Common Divisor) of two numbers using a for loop.\n",
    "x=int(input(\"enter a number\"))\n",
    "y=int(input(\"enter the another number\"))\n",
    "gcd=0\n",
    "n=min(x,y)\n",
    "for i in range(1,n+1):\n",
    "    if x%i==0 and y%i==0:\n",
    "        gcd=i\n",
    "print(\"the gcd of x and y is:\",gcd)\n"
   ]
  },
  {
   "cell_type": "code",
   "execution_count": 15,
   "id": "69145710-d120-4f74-b965-72b86ef6eafe",
   "metadata": {},
   "outputs": [
    {
     "name": "stdin",
     "output_type": "stream",
     "text": [
      "Enter a String: santhosh\n"
     ]
    },
    {
     "name": "stdout",
     "output_type": "stream",
     "text": [
      "Reversed string : hsohtnas\n",
      "The string is not palindrome:\n"
     ]
    }
   ],
   "source": [
    "#17.Create a Python program that checks if a string is a palindrome using a for loop.\n",
    "string=input(\"Enter a String:\")\n",
    "revstr=\"\"\n",
    "for i in string:\n",
    "    revstr=i+revstr\n",
    "print(\"Reversed string :\",revstr)\n",
    "if string == revstr:\n",
    "    print(\"The string is palindrome:\")\n",
    "else:\n",
    "    print(\"The string is not palindrome:\") "
   ]
  },
  {
   "cell_type": "code",
   "execution_count": 10,
   "id": "94dfe03a-1824-48c8-bfa3-13f426fcbef5",
   "metadata": {},
   "outputs": [
    {
     "name": "stdout",
     "output_type": "stream",
     "text": [
      "the final list after removing duplicates is [2, 3, 4, 5, 6]\n"
     ]
    }
   ],
   "source": [
    "#18.Write a Python program to remove duplicates from a list using a for loop.\n",
    "l=[2,3,4,5,6,4,3,6]\n",
    "final_list=[]\n",
    "for i in l:\n",
    "    if i not in final_list:\n",
    "        final_list.append(i)\n",
    "print(\"the final list after removing duplicates is\",final_list)\n"
   ]
  },
  {
   "cell_type": "code",
   "execution_count": 11,
   "id": "1a7a3ad4-f955-4000-8f8e-a4436442904c",
   "metadata": {},
   "outputs": [
    {
     "name": "stdin",
     "output_type": "stream",
     "text": [
      "enter a sentence i am santhosh\n"
     ]
    },
    {
     "name": "stdout",
     "output_type": "stream",
     "text": [
      "the number of words in a sentence is: 3\n"
     ]
    }
   ],
   "source": [
    "#19.Create a Python program that counts the number of words in a sentence using a for loop.\n",
    "string=input(\"enter a sentence\")\n",
    "word=1\n",
    "for i in string:\n",
    "    if i==\" \":\n",
    "        word=word+1\n",
    "print(\"the number of words in a sentence is:\",word)\n",
    "    \n"
   ]
  },
  {
   "cell_type": "code",
   "execution_count": 12,
   "id": "90369ab2-0612-4605-8c98-fad43afabc21",
   "metadata": {},
   "outputs": [
    {
     "name": "stdout",
     "output_type": "stream",
     "text": [
      "sum of all odd numbers is: 625\n"
     ]
    }
   ],
   "source": [
    "#20.Write a Python program to find the sum of all odd numbers from 1 to 50 using a for loop.\n",
    "oddnum=[]\n",
    "for i in range(1,51):\n",
    "    if i%2!=0:\n",
    "        oddnum.append(i)\n",
    "    sum_of_odd=sum(oddnum)\n",
    "print(\"sum of all odd numbers is:\",sum_of_odd)\n",
    "        "
   ]
  },
  {
   "cell_type": "code",
   "execution_count": 14,
   "id": "038f9969-0e45-4311-845b-7d81c30fca0b",
   "metadata": {},
   "outputs": [
    {
     "name": "stdin",
     "output_type": "stream",
     "text": [
      "Enter year to be checked: 2004\n"
     ]
    },
    {
     "name": "stdout",
     "output_type": "stream",
     "text": [
      "The year is a leap year!\n"
     ]
    }
   ],
   "source": [
    "#21.Write a Python program that checks if a given year is a leap year using a for loop.\n",
    "year=int(input(\"Enter year to be checked:\"))\n",
    "if(year%4==0 and year%100!=0 or year%400==0):\n",
    "    print(\"The year is a leap year!\")\n",
    "else:\n",
    "    print(\"The year isn't a leap year!\")"
   ]
  },
  {
   "cell_type": "code",
   "execution_count": 19,
   "id": "6f3cdfc8-45d9-4930-bc1d-5a99306cb71d",
   "metadata": {},
   "outputs": [
    {
     "name": "stdin",
     "output_type": "stream",
     "text": [
      "Enter a number 16\n"
     ]
    },
    {
     "name": "stdout",
     "output_type": "stream",
     "text": [
      "The square root of a number 4.0\n"
     ]
    }
   ],
   "source": [
    "#22.Create a Python program that calculates the square root of a number using a for loop.\n",
    "x=int(input(\"Enter a number\"))\n",
    "square_root=x**0.5\n",
    "print(\"The square root of a number\",square_root)\n"
   ]
  },
  {
   "cell_type": "code",
   "execution_count": 1,
   "id": "aed8a4e6-3e5c-48f0-8286-9ece081d986f",
   "metadata": {},
   "outputs": [
    {
     "name": "stdin",
     "output_type": "stream",
     "text": [
      "enter a number 20\n",
      "enter the another number 25\n"
     ]
    },
    {
     "name": "stdout",
     "output_type": "stream",
     "text": [
      "the gcd of x and y is: 5\n",
      "the lcm of x and y is: 100.0\n"
     ]
    }
   ],
   "source": [
    "#23.Write a Python program to find the LCM (Least Common Multiple) of two numbers using a for loop.\n",
    "x=int(input(\"enter a number\"))\n",
    "y=int(input(\"enter the another number\"))\n",
    "gcd=0\n",
    "n=min(x,y)\n",
    "for i in range(1,n+1):\n",
    "    if x%i==0 and y%i==0:\n",
    "        gcd=i\n",
    "lcm=(x*y)/gcd\n",
    "print(\"the gcd of x and y is:\",gcd)\n",
    "print(\"the lcm of x and y is:\",lcm)\n"
   ]
  },
  {
   "cell_type": "code",
   "execution_count": null,
   "id": "48800cdb-7f5e-4419-a62a-5bb44efa21d3",
   "metadata": {},
   "outputs": [],
   "source": [
    "'''If else programs''' "
   ]
  },
  {
   "cell_type": "code",
   "execution_count": 3,
   "id": "b6a8b2fc-93c5-443c-9191-eb97678abc0f",
   "metadata": {},
   "outputs": [
    {
     "name": "stdin",
     "output_type": "stream",
     "text": [
      "Enter a number: 5\n"
     ]
    },
    {
     "name": "stdout",
     "output_type": "stream",
     "text": [
      "The number is positive\n"
     ]
    }
   ],
   "source": [
    "# 1.Write a Python program to check if a number is positive, negative, or zero using an if-else statement.\n",
    "x=int(input(\"Enter a number:\"))\n",
    "if x>0:\n",
    "    print(\"The number is positive\")\n",
    "elif x<0:\n",
    "    print(\"The number is negative\")\n",
    "else:\n",
    "    print(\"The number is zero\")"
   ]
  },
  {
   "cell_type": "code",
   "execution_count": 4,
   "id": "63e0cc80-b57c-4044-88a3-21d662d6c938",
   "metadata": {},
   "outputs": [
    {
     "name": "stdin",
     "output_type": "stream",
     "text": [
      "Enter a number: 25\n"
     ]
    },
    {
     "name": "stdout",
     "output_type": "stream",
     "text": [
      "The number is odd\n"
     ]
    }
   ],
   "source": [
    "# 2.Create a Python program that checks if a given number is even or odd using an if-else statement.\n",
    "x=int(input(\"Enter a number:\"))\n",
    "if x%2==0:\n",
    "    print(\"The number is even\")\n",
    "else:\n",
    "    print(\"The number is odd\")"
   ]
  },
  {
   "cell_type": "code",
   "execution_count": 22,
   "id": "9757a51c-66db-4eb7-a9d7-2f5f7927119f",
   "metadata": {},
   "outputs": [
    {
     "name": "stdin",
     "output_type": "stream",
     "text": [
      "Enter a number: -5\n"
     ]
    },
    {
     "name": "stdout",
     "output_type": "stream",
     "text": [
      "The number is negative\n"
     ]
    }
   ],
   "source": [
    "# 3. How can you use nested if-else statements in Python, and provide an example?\n",
    "'''Nested if-else statements in Python allow you to test multiple conditions and execute different code blocks based on the results of these tests'''\n",
    "x=int(input(\"Enter a number:\"))\n",
    "if x>0:\n",
    "    print(\"The number is positive\")\n",
    "elif x<0:\n",
    "    print(\"The number is negative\")\n",
    "else:\n",
    "    print(\"The number is zero\")"
   ]
  },
  {
   "cell_type": "code",
   "execution_count": 1,
   "id": "e5efbfbc-03bb-4128-a9cd-4841af639536",
   "metadata": {},
   "outputs": [
    {
     "name": "stdin",
     "output_type": "stream",
     "text": [
      "Enter a 1st number: 15\n",
      "Enter a 2nd number: 25\n",
      "Enter a 3rd number: 10\n"
     ]
    },
    {
     "name": "stdout",
     "output_type": "stream",
     "text": [
      "The largest number is: 25\n"
     ]
    }
   ],
   "source": [
    "#4. Write a Python program to determine the largest of three numbers using if-else.\n",
    "x=int(input(\"Enter a 1st number:\"))\n",
    "y=int(input(\"Enter a 2nd number:\"))\n",
    "z=int(input(\"Enter a 3rd number:\"))\n",
    "if x>y and x>z:\n",
    "    print(\"The largest number is:\",x)\n",
    "elif y>x and y>z:\n",
    "    print(\"The largest number is:\",y)\n",
    "else:\n",
    "    print(\"The largest number is:\",z)"
   ]
  },
  {
   "cell_type": "code",
   "execution_count": 3,
   "id": "a0eea007-0d41-4a91-84ee-ffc5c8379b8e",
   "metadata": {},
   "outputs": [
    {
     "name": "stdin",
     "output_type": "stream",
     "text": [
      "Enter a 1st number: -5\n"
     ]
    },
    {
     "name": "stdout",
     "output_type": "stream",
     "text": [
      "the absolute value is 5\n"
     ]
    }
   ],
   "source": [
    "# 5.Write a Python program that calculates the absolute value of a number using if-else.\n",
    "x=int(input(\"Enter a 1st number:\"))\n",
    "if x>0:\n",
    "    print(\"the absolute value is\",x)\n",
    "else:\n",
    "    print(\"the absolute value is\",-x)\n",
    "    "
   ]
  },
  {
   "cell_type": "code",
   "execution_count": 6,
   "id": "1c5004bf-b460-4730-8c34-9f8663bb7a33",
   "metadata": {},
   "outputs": [
    {
     "name": "stdin",
     "output_type": "stream",
     "text": [
      "enter the character s\n"
     ]
    },
    {
     "name": "stdout",
     "output_type": "stream",
     "text": [
      "the caharacter is consonant\n"
     ]
    }
   ],
   "source": [
    "#6.Create a Python program that checks if a given character is a vowel or consonant using if-else.\n",
    "v=input(\"enter the character\")\n",
    "if v=='a'or v=='e'or v=='i'or v=='o'or v=='u'or v=='A'or v=='E'or v=='I' or v=='O' or v=='U':\n",
    "    print(\"the caharacter is vowel\")\n",
    "else:\n",
    "    print(\"the caharacter is consonant\")"
   ]
  },
  {
   "cell_type": "code",
   "execution_count": 7,
   "id": "ad8c7dd6-1fd3-4b07-93b5-d50fd748fcb3",
   "metadata": {},
   "outputs": [
    {
     "name": "stdin",
     "output_type": "stream",
     "text": [
      "enter the age of a person 18\n"
     ]
    },
    {
     "name": "stdout",
     "output_type": "stream",
     "text": [
      "The person is not eligible for to vote\n"
     ]
    }
   ],
   "source": [
    "#7.Write a Python program to determine if a user is eligible to vote based on their age using if-else.\n",
    "age=int(input(\"enter the age of a person\"))\n",
    "if age<18:\n",
    "    print(\"The person is eligible for to vote\")\n",
    "else:\n",
    "    print(\"The person is not eligible for to vote\")"
   ]
  },
  {
   "cell_type": "code",
   "execution_count": 3,
   "id": "6d1543e8-fdfa-4673-a7e0-6356b9f6a0a6",
   "metadata": {},
   "outputs": [
    {
     "name": "stdin",
     "output_type": "stream",
     "text": [
      "enter purchased amount 8000\n"
     ]
    },
    {
     "name": "stdout",
     "output_type": "stream",
     "text": [
      "After discount the amount is: 4800.0\n"
     ]
    }
   ],
   "source": [
    "#8.Create a Python program that calculates the discount amount based on the purchase amount using if-else.\n",
    "amount=int(input(\"enter purchased amount\"))\n",
    "if amount<1000:\n",
    "    print(\"There is no discount\")\n",
    "elif 1000<=amount<2000:\n",
    "    discount=amount*0.10\n",
    "    final_amount=amount-discount\n",
    "    print(\"After discount the amount is:\",final_amount)\n",
    "elif 2000<=amount<5000:\n",
    "    discount=amount*0.20\n",
    "    final_amount=amount-discount\n",
    "    print(\"After discount the amount is:\",final_amount)\n",
    "elif 5000<=amount<10000:\n",
    "    discount=amount*0.40\n",
    "    final_amount=amount-discount\n",
    "    print(\"After discount the amount is:\",final_amount)\n",
    "else:\n",
    "    discount=amount*0.50\n",
    "    final_amount=amount-discount\n",
    "    print(\"After discount the amount is:\",final_amount)           "
   ]
  },
  {
   "cell_type": "code",
   "execution_count": 23,
   "id": "b4c5c4c0-0b1a-4dba-9f34-0bde7b5c8830",
   "metadata": {},
   "outputs": [
    {
     "name": "stdin",
     "output_type": "stream",
     "text": [
      "Enter the lower bound of range 10\n",
      "enter the upper bound of range 20\n",
      "Enter any number 15\n"
     ]
    },
    {
     "name": "stdout",
     "output_type": "stream",
     "text": [
      "The number with in the range\n"
     ]
    }
   ],
   "source": [
    "#9.Write a Python program to check if a number is within a specified range using if-else.\n",
    "lower_limit=int(input(\"Enter the lower bound of range\"))\n",
    "upper_limit=int(input(\"enter the upper bound of range\"))\n",
    "x=int(input(\"Enter any number\"))\n",
    "if lower_limit<=x<=upper_limit:\n",
    "    print(\"The number with in the range\")\n",
    "else:\n",
    "    print(\"The number is not with in the range\")"
   ]
  },
  {
   "cell_type": "code",
   "execution_count": null,
   "id": "04502a62-6975-4441-9c70-36a46e2c615c",
   "metadata": {},
   "outputs": [],
   "source": [
    "#10.Create a Python program that determines the grade of a student based on their score using if-else.\n",
    "x=int(input(\"Enter the student score\"))\n",
    "if x>=90:\n",
    "    print(\"The grade of studenet is O\")\n",
    "elif 80<=x<90:\n",
    "    print(\"The grade of studenet is A+\")\n",
    "elif 70<=x<80:\n",
    "    print(\"The grade of studenet is A\")\n",
    "elif 60<=x<70:\n",
    "    print(\"The grade of studenet is B+\")\n",
    "elif 50<=x<60:\n",
    "    print(\"The grade of studenet is B\")\n",
    "elif 40<=x<50:\n",
    "    print(\"The grade of studenet is C\")\n",
    "else:\n",
    "    print(\"The grade of studenet is Fail\")\n"
   ]
  },
  {
   "cell_type": "code",
   "execution_count": 6,
   "id": "31afbf06-07d5-40e3-9ed5-fc915ad398fd",
   "metadata": {},
   "outputs": [
    {
     "name": "stdin",
     "output_type": "stream",
     "text": [
      "enter a string \n"
     ]
    },
    {
     "name": "stdout",
     "output_type": "stream",
     "text": [
      "the string is empty\n"
     ]
    }
   ],
   "source": [
    "#11.Write a Python program to check if a string is empty or not using if-else.\n",
    "string=input(\"enter a string\")\n",
    "if len(string)==0:\n",
    "    print(\"the string is empty\")\n",
    "else:\n",
    "    print(\"the string is not empty\")"
   ]
  },
  {
   "cell_type": "code",
   "execution_count": 7,
   "id": "1c4a72d3-3484-4bb4-bf59-88b01785ad76",
   "metadata": {},
   "outputs": [
    {
     "name": "stdin",
     "output_type": "stream",
     "text": [
      "enter side 20\n",
      "enter side 20\n",
      "enter side 20\n"
     ]
    },
    {
     "name": "stdout",
     "output_type": "stream",
     "text": [
      "Triangle is Equilateral.\n"
     ]
    }
   ],
   "source": [
    "#12.Create a Python program that identifies the type of a triangle (e.g., equilateral, isosceles, or scalene) based on input values using if-else.\n",
    "a=float(input(\"enter side\"))\n",
    "b=float(input(\"enter side\"))\n",
    "c=float(input(\"enter side\"))\n",
    "if a==b and b==c and c==a:\n",
    "        print('Triangle is Equilateral.')\n",
    "elif a==b or b==c or a==c:\n",
    "        print('Triangle is Isosceles.')\n",
    "else:\n",
    "        print('Triangle is Scalane')"
   ]
  },
  {
   "cell_type": "code",
   "execution_count": 8,
   "id": "088ed2b8-85ed-4315-9593-507817b83103",
   "metadata": {},
   "outputs": [
    {
     "name": "stdin",
     "output_type": "stream",
     "text": [
      "Enter weekday number (1-7) :  7\n"
     ]
    },
    {
     "name": "stdout",
     "output_type": "stream",
     "text": [
      "Sunday\n"
     ]
    }
   ],
   "source": [
    "#13. Write a Python program to determine the day of the week based on a user-provided number using if-else.\n",
    "weekday = int(input(\"Enter weekday number (1-7) : \"))\n",
    "if weekday == 1 :\n",
    "    print(\"Monday\");\n",
    "elif weekday == 2 :\n",
    "    print(\"Tuesday\")\n",
    "elif weekday == 3 :\n",
    "    print(\"Wednesday\")\n",
    "elif weekday == 4 :\n",
    "    print(\"Thursday\")\n",
    "elif weekday == 5 :\n",
    "    print(\"Friday\")\n",
    "elif weekday == 6 :\n",
    "    print(\"Saturday\")\n",
    "elif weekday == 7 :\n",
    "    print(\"Sunday\")\n",
    "else :\n",
    "    print(\"Please enter any weekday number (1-7)\")"
   ]
  },
  {
   "cell_type": "code",
   "execution_count": 10,
   "id": "033bd38d-10be-4cf6-9f9e-fb3c69929d21",
   "metadata": {},
   "outputs": [
    {
     "name": "stdin",
     "output_type": "stream",
     "text": [
      "eneter any year 2001\n"
     ]
    },
    {
     "name": "stdout",
     "output_type": "stream",
     "text": [
      "the year is not leap year\n"
     ]
    }
   ],
   "source": [
    "#14.Create a Python program that checks if a given year is a leap year using both if-else and a function.\n",
    "year=int(input(\"eneter any year\"))\n",
    "if year%4==0 or year%100==0 and year%400==0:\n",
    "    print(\"the year is leap year\")\n",
    "else:\n",
    "    print(\"the year is not leap year\")"
   ]
  },
  {
   "cell_type": "code",
   "execution_count": 1,
   "id": "f55d6a3b-f93d-4ab0-91db-58ac354c5b36",
   "metadata": {},
   "outputs": [
    {
     "ename": "AssertionError",
     "evalue": "",
     "output_type": "error",
     "traceback": [
      "\u001b[0;31m---------------------------------------------------------------------------\u001b[0m",
      "\u001b[0;31mAssertionError\u001b[0m                            Traceback (most recent call last)",
      "Cell \u001b[0;32mIn[1], line 9\u001b[0m\n\u001b[1;32m      6\u001b[0m \u001b[38;5;28;01massert\u001b[39;00m x \u001b[38;5;241m==\u001b[39m \u001b[38;5;124m\"\u001b[39m\u001b[38;5;124mhello\u001b[39m\u001b[38;5;124m\"\u001b[39m\n\u001b[1;32m      8\u001b[0m \u001b[38;5;66;03m#if condition returns False, AssertionError is raised:\u001b[39;00m\n\u001b[0;32m----> 9\u001b[0m \u001b[38;5;28;01massert\u001b[39;00m x \u001b[38;5;241m==\u001b[39m \u001b[38;5;124m\"\u001b[39m\u001b[38;5;124mgoodbye\u001b[39m\u001b[38;5;124m\"\u001b[39m\n",
      "\u001b[0;31mAssertionError\u001b[0m: "
     ]
    }
   ],
   "source": [
    "#15.How do you use the \"assert\" statement in Python to add debugging checks within if-else blocks?\n",
    "\n",
    "x = \"hello\"\n",
    "\n",
    "#if condition returns True, then nothing happens:\n",
    "assert x == \"hello\"\n",
    "\n",
    "#if condition returns False, AssertionError is raised:\n",
    "assert x == \"goodbye\""
   ]
  },
  {
   "cell_type": "code",
   "execution_count": 11,
   "id": "886d9887-1a2d-40c0-8657-b8f21ae8553b",
   "metadata": {},
   "outputs": [
    {
     "name": "stdin",
     "output_type": "stream",
     "text": [
      "enter a age of person 65\n"
     ]
    },
    {
     "name": "stdout",
     "output_type": "stream",
     "text": [
      "the person is senior citizen and he can avail discount\n"
     ]
    }
   ],
   "source": [
    "#16. Create a Python program that determines the eligibility of a person for a senior citizen discount based on age using if-else.\n",
    "age=int(input(\"enter a age of person\"))\n",
    "if age>=60:\n",
    "    print(\"the person is senior citizen and he can avail discount\")\n",
    "else:\n",
    "    print(\"the person is not senior citizen\")"
   ]
  },
  {
   "cell_type": "code",
   "execution_count": 12,
   "id": "39d8fcd1-37fb-4e33-877c-fa3a4d594b01",
   "metadata": {},
   "outputs": [
    {
     "name": "stdin",
     "output_type": "stream",
     "text": [
      "Enter a character 2\n"
     ]
    },
    {
     "name": "stdout",
     "output_type": "stream",
     "text": [
      "The character is neither\n"
     ]
    }
   ],
   "source": [
    "#17. Write a Python program to categorize a given character as uppercase, lowercase, or neither using if-else.\n",
    "char=input(\"Enter a character\")\n",
    "if char.isupper():\n",
    "    print(\"Entered character is uppercase\")\n",
    "elif char.islower():\n",
    "    print(\"Entered character is lowercase\")\n",
    "else:\n",
    "    print(\"The character is neither\")"
   ]
  },
  {
   "cell_type": "code",
   "execution_count": 13,
   "id": "9b918c1b-3e2a-4df5-898c-691e6a9a3aa5",
   "metadata": {},
   "outputs": [
    {
     "name": "stdout",
     "output_type": "stream",
     "text": [
      "the roots are real and distinct\n",
      "-1.3944487245360109\n",
      "-8.60555127546399\n"
     ]
    }
   ],
   "source": [
    "#18. Write a Python program to determine the roots of a quadratic equation using if-else.\n",
    "import math\n",
    "def quadraticequn(a,b,c):\n",
    "    disc=b*b-4*a*c\n",
    "    squr_val=math.sqrt(abs(disc))\n",
    "    if disc>0:\n",
    "        print(\"the roots are real and distinct\")\n",
    "        print((-b+squr_val)/(2*a))\n",
    "        print((-b-squr_val)/(2*a))\n",
    "    elif disc==0:\n",
    "        print(\"the roots are real and same\")\n",
    "        print(-b/(2*a))\n",
    "    else:\n",
    "        print(\"the roots are complex\")\n",
    "        print(- b / (2 * a), + i, squr_val)\n",
    "        print(- b / (2 * a), - i, squr_val)     \n",
    "quadraticequn(1,10,12)"
   ]
  },
  {
   "cell_type": "code",
   "execution_count": 15,
   "id": "06a7dbf8-911e-4d1f-8faa-829b03ded409",
   "metadata": {},
   "outputs": [
    {
     "name": "stdin",
     "output_type": "stream",
     "text": [
      "enter a year 2001\n"
     ]
    },
    {
     "name": "stdout",
     "output_type": "stream",
     "text": [
      "the year is not century year\n"
     ]
    }
   ],
   "source": [
    "#19. Create a Python program that checks if a given year is a century year or not using if-else.\n",
    "year=int(input(\"enter a year\"))\n",
    "if year<=0:\n",
    "    print(\"the year is not allow zero or negative\")\n",
    "elif year<100:\n",
    "    print(\" the year is first century\")\n",
    "elif year%100==0:\n",
    "    print(\"the year is century year\")\n",
    "else:\n",
    "    print(\"the year is not century year\")\n"
   ]
  },
  {
   "cell_type": "code",
   "execution_count": 2,
   "id": "7b735e41-a136-459c-b2bd-44d6350a51f2",
   "metadata": {},
   "outputs": [
    {
     "name": "stdin",
     "output_type": "stream",
     "text": [
      "enter a number 24\n"
     ]
    },
    {
     "name": "stdout",
     "output_type": "stream",
     "text": [
      "the given number is not perfect square\n"
     ]
    }
   ],
   "source": [
    "#20. Write a Python program to determine if a given number is a perfect square using if-else.\n",
    "num=int(input(\"enter a number\"))\n",
    "sqrt_num=num**0.5\n",
    "if sqrt_num**2==num:\n",
    "    print(\"the given number is perfect square\")\n",
    "else:\n",
    "    print(\"the given number is not perfect square\")\n"
   ]
  },
  {
   "cell_type": "code",
   "execution_count": null,
   "id": "072b640b-5286-4ab0-9242-ab6268bed324",
   "metadata": {},
   "outputs": [],
   "source": [
    "#21. Explain the purpose of the \"continue\" and \"break\" statements within if-else loops.\n",
    "''' The \"break\" command does not work within an \"if\" statement but The break statement can be used if you need to break out of a for or while loop and move onto the next section of code.\n",
    "The continue statement is used to skip the remaining code inside a loop for the current iteration only. '''\n"
   ]
  },
  {
   "cell_type": "code",
   "execution_count": 3,
   "id": "b034f141-a5b0-417c-b9c7-fad561dde8f1",
   "metadata": {},
   "outputs": [
    {
     "name": "stdin",
     "output_type": "stream",
     "text": [
      "enter your height in meters 5\n",
      "enter your weight in kgs 6\n"
     ]
    },
    {
     "name": "stdout",
     "output_type": "stream",
     "text": [
      "the bmi is: 0.24\n",
      "The person is underweight\n"
     ]
    }
   ],
   "source": [
    "#22. Create a Python program that calculates the BMI (Body Mass Index) of a person based on their weight and height using if-else.\n",
    "height=float(input(\"enter your height in meters\"))\n",
    "weight=float(input(\"enter your weight in kgs\"))\n",
    "bmi=(weight / height**2)\n",
    "print(\"the bmi is:\",round(bmi,2))\n",
    "if bmi<=18.5:\n",
    "    print(\"The person is under weight\")\n",
    "elif 18.5<bmi<24.9:\n",
    "    print(\"The person is normal weight\")\n",
    "elif 25<bmi<29.9:\n",
    "    print(\"The person is over weight\")\n",
    "else:\n",
    "    print(\"the person is obesity\")\n"
   ]
  },
  {
   "cell_type": "code",
   "execution_count": 3,
   "id": "d02a63d3-9c1b-4201-b61f-4271ef8027b9",
   "metadata": {},
   "outputs": [
    {
     "name": "stdout",
     "output_type": "stream",
     "text": [
      "[60, 70, 80, 90, 60]\n"
     ]
    }
   ],
   "source": [
    "#23. How can you use the \"filter()\" function with if-else statements to filter elements from a list?\n",
    "'''the `filter()` is a built-in Python function to filter list items. It requires a filter function and list `filter(fn, list)`. '''\n",
    "l2=[50,60,70,80,40,90,60]\n",
    "def check_score(n):\n",
    "    if n>=60:\n",
    "        return True\n",
    "    else:\n",
    "        return False\n",
    "per_score=list(filter(check_score,l2))\n",
    "print(per_score)\n"
   ]
  },
  {
   "cell_type": "code",
   "execution_count": 18,
   "id": "1531d139-c047-411d-ac10-37bcf98b7d01",
   "metadata": {},
   "outputs": [
    {
     "name": "stdin",
     "output_type": "stream",
     "text": [
      "enter a number 13\n"
     ]
    },
    {
     "name": "stdout",
     "output_type": "stream",
     "text": [
      "the number is prime\n"
     ]
    }
   ],
   "source": [
    "#24. Write a Python program to determine if a given number is prime or not using if-else.\n",
    "num=int(input(\"enter a number\"))\n",
    "if num>1:\n",
    "    for i in range(2,int(num/2)+1):\n",
    "        if num%i==0:\n",
    "            print(\"the number is not prime\")\n",
    "            break\n",
    "    else:\n",
    "        print(\"the number is prime\")\n",
    "else:\n",
    "    print(\"the number is not prime\")"
   ]
  },
  {
   "cell_type": "code",
   "execution_count": null,
   "id": "f4a9ff03-d030-4e96-895c-715d5382f9eb",
   "metadata": {},
   "outputs": [],
   "source": [
    "''' map '''"
   ]
  },
  {
   "cell_type": "code",
   "execution_count": 4,
   "id": "d49b30ff-923d-4194-8322-bc508de89ab1",
   "metadata": {},
   "outputs": [
    {
     "data": {
      "text/plain": [
       "[4, 9, 16, 25, 36, 49, 64, 81, 100]"
      ]
     },
     "execution_count": 4,
     "metadata": {},
     "output_type": "execute_result"
    }
   ],
   "source": [
    "# 1.Explain the purpose of the `map()` function in Python and provide an example of how it can be used to apply a function to each element of an iterable.\n",
    "'''Map in Python is a function that works as an iterator to return a result after applying a function to every item of an iterable'''\n",
    "l1=[2,3,4,5,6,7,8,9,10]\n",
    "list(map((lambda a:a**2),l1))"
   ]
  },
  {
   "cell_type": "code",
   "execution_count": 25,
   "id": "55f4c4f9-81fa-41d2-99e4-2064c848dab8",
   "metadata": {},
   "outputs": [
    {
     "data": {
      "text/plain": [
       "[4, 9, 16, 25, 36, 49, 64, 81, 100]"
      ]
     },
     "execution_count": 25,
     "metadata": {},
     "output_type": "execute_result"
    }
   ],
   "source": [
    "# 2.Write a Python program that uses the `map()` function to square each element of a list of numbers.\n",
    "l1=[2,3,4,5,6,7,8,9,10]\n",
    "list(map((lambda a:a**2),l1))"
   ]
  },
  {
   "cell_type": "code",
   "execution_count": null,
   "id": "fb5686c3-f821-4dda-99f9-65c5e834b142",
   "metadata": {},
   "outputs": [],
   "source": [
    "3.\tHow does the `map()` function differ from a list comprehension in Python, and when would you choose one over the other?\n",
    "'''List comprehension returns a list, whereas the map function returns an object of Iterable.\n",
    "List comprehension execution is faster than that of map function when the formula expression is huge and complex. \n",
    "Map function is faster than list comprehension when the formula is already defined as a function earlier.'''"
   ]
  },
  {
   "cell_type": "code",
   "execution_count": 28,
   "id": "40151110-66e3-4bc1-b241-5df16f73eb02",
   "metadata": {},
   "outputs": [
    {
     "data": {
      "text/plain": [
       "['SANTHOSH', 'PWSKILLS', 'DATA SCIENCE']"
      ]
     },
     "execution_count": 28,
     "metadata": {},
     "output_type": "execute_result"
    }
   ],
   "source": [
    "# 4.Create a Python program that uses the `map()` function to convert a list of names to uppercase.\n",
    "l2=[\"santhosh\",\"pwskills\",\"data science\"]\n",
    "list(map((lambda a:a.upper()),l2))"
   ]
  },
  {
   "cell_type": "code",
   "execution_count": 30,
   "id": "6a0870a2-d552-4e2d-9062-3860cb0015fe",
   "metadata": {},
   "outputs": [
    {
     "data": {
      "text/plain": [
       "[8, 2, 6]"
      ]
     },
     "execution_count": 30,
     "metadata": {},
     "output_type": "execute_result"
    }
   ],
   "source": [
    "# 5.Write a Python program that uses the `map()` function to calculate the length of each word in a list of strings.\n",
    "l3=[\"santhosh\",\"pw\",\"skills\"]\n",
    "list(map((lambda a: len(a)),l3))"
   ]
  },
  {
   "cell_type": "code",
   "execution_count": 6,
   "id": "f1fa4bbd-9b63-4ec6-a9a6-8914748d5e3a",
   "metadata": {},
   "outputs": [
    {
     "name": "stdout",
     "output_type": "stream",
     "text": [
      "The power numbers [2, 16, 3125, 1296]\n"
     ]
    }
   ],
   "source": [
    "# 6.How can you use the `map()` function to apply a custom function to elements of multiple lists simultaneously in Python?\n",
    "base_numbers=[2,4,5,6]\n",
    "powers=[1,2,5,4]\n",
    "power_numbers=list(map(pow,base_numbers,powers))\n",
    "print(\"The power numbers\",power_numbers)"
   ]
  },
  {
   "cell_type": "code",
   "execution_count": 31,
   "id": "ecf3c6de-f09a-4c3e-a52d-a5125c1e182d",
   "metadata": {},
   "outputs": [
    {
     "data": {
      "text/plain": [
       "[77.0, 78.80000000000001, 87.80000000000001, 100.4, 107.60000000000001]"
      ]
     },
     "execution_count": 31,
     "metadata": {},
     "output_type": "execute_result"
    }
   ],
   "source": [
    "# 7.Create a Python program that uses `map()` to convert a list of temperatures from Celsius to Fahrenheit.\n",
    "l4=[25,26,31,38,42]\n",
    "list(map((lambda f:1.8*f+32),l4))"
   ]
  },
  {
   "cell_type": "code",
   "execution_count": 33,
   "id": "fb159d4a-a5fc-40f0-9135-b504f4916621",
   "metadata": {},
   "outputs": [
    {
     "data": {
      "text/plain": [
       "[13, 13, 14, 16, 18]"
      ]
     },
     "execution_count": 33,
     "metadata": {},
     "output_type": "execute_result"
    }
   ],
   "source": [
    "# 8.Write a Python program that uses the `map()` function to round each element of a list of floating-point numbers to the nearest integer.\n",
    "l5=[12.9,13.2,14.5,16.1,17.8]\n",
    "list(map((lambda a: int(round(a,0))),l5))"
   ]
  },
  {
   "cell_type": "code",
   "execution_count": null,
   "id": "cd2aa11c-8f20-4d01-b52c-0ab5d7d02bf2",
   "metadata": {},
   "outputs": [],
   "source": [
    "'''Reduce :-'''"
   ]
  },
  {
   "cell_type": "code",
   "execution_count": 8,
   "id": "816e9b92-9eb4-44fd-93b3-006a324b45c3",
   "metadata": {},
   "outputs": [
    {
     "data": {
      "text/plain": [
       "120"
      ]
     },
     "execution_count": 8,
     "metadata": {},
     "output_type": "execute_result"
    }
   ],
   "source": [
    "#1.\tWhat is the `reduce()` function in Python, and what module should you import to use it? Provide an example of its basic usage.\n",
    "'''reduce() is to take an existing function, apply it cumulatively to all the items in an iterable, and generate a single final value.\n",
    "This function is defined in “functools” module.'''\n",
    "from functools import reduce\n",
    "l=[2,3,4,5]\n",
    "reduce((lambda a,b:a*b),l)"
   ]
  },
  {
   "cell_type": "code",
   "execution_count": 1,
   "id": "73ee637c-2b1d-4176-bf52-e5a09295b7a1",
   "metadata": {},
   "outputs": [
    {
     "data": {
      "text/plain": [
       "120"
      ]
     },
     "execution_count": 1,
     "metadata": {},
     "output_type": "execute_result"
    }
   ],
   "source": [
    "# 2.\tWrite a Python program that uses the `reduce()` function to find the product of all elements in a list.\n",
    "from functools import reduce\n",
    "l=[2,3,4,5]\n",
    "reduce((lambda a,b:a*b),l)"
   ]
  },
  {
   "cell_type": "code",
   "execution_count": 8,
   "id": "0117b4e6-ff22-447c-a411-f858f611342a",
   "metadata": {},
   "outputs": [
    {
     "data": {
      "text/plain": [
       "85"
      ]
     },
     "execution_count": 8,
     "metadata": {},
     "output_type": "execute_result"
    }
   ],
   "source": [
    "#3.\tCreate a Python program that uses `reduce()` to find the maximum element in a list of numbers.\n",
    "l=[45,56,37,85,2]\n",
    "reduce(lambda a,b:a if a>b else b,l)"
   ]
  },
  {
   "cell_type": "code",
   "execution_count": 13,
   "id": "d961c049-4249-493f-b27b-79f0820a7c36",
   "metadata": {},
   "outputs": [
    {
     "data": {
      "text/plain": [
       "'santhosh pwskills data science'"
      ]
     },
     "execution_count": 13,
     "metadata": {},
     "output_type": "execute_result"
    }
   ],
   "source": [
    "#4.\tHow can you use the `reduce()` function to concatenate a list of strings into a single string?\n",
    "l=[\"santhosh\",\"pwskills\",\"data science\"]\n",
    "reduce(lambda a,b:str(a+\" \"+b),l)"
   ]
  },
  {
   "cell_type": "code",
   "execution_count": 16,
   "id": "a7290de1-4502-42d0-b65c-d2f10ad89638",
   "metadata": {},
   "outputs": [
    {
     "name": "stdout",
     "output_type": "stream",
     "text": [
      "24\n"
     ]
    }
   ],
   "source": [
    "#5.\tWrite a Python program that calculates the factorial of a number using the `reduce()` function.\n",
    "n=4\n",
    "fact=reduce(lambda a,b:a*b,range(1,n+1))\n",
    "print(fact)"
   ]
  },
  {
   "cell_type": "code",
   "execution_count": 23,
   "id": "ce271b29-ee7e-46e2-b111-63ad32cb58ef",
   "metadata": {},
   "outputs": [
    {
     "data": {
      "text/plain": [
       "3"
      ]
     },
     "execution_count": 23,
     "metadata": {},
     "output_type": "execute_result"
    }
   ],
   "source": [
    "#6.\tCreate a Python program that uses `reduce()` to find the GCD (Greatest Common Divisor) of a list of numbers.\n",
    "from math import gcd\n",
    "\n",
    "l=[15,81,78]\n",
    "reduce(lambda a,b:gcd(a,b),l)"
   ]
  },
  {
   "cell_type": "code",
   "execution_count": 24,
   "id": "2a352a70-e3e6-4185-8e0f-61c7d83f678f",
   "metadata": {},
   "outputs": [
    {
     "name": "stdout",
     "output_type": "stream",
     "text": [
      "List Integer Summation : [7, 9, 12, 3, 1, 6]\n"
     ]
    }
   ],
   "source": [
    "#7.\tWrite a Python program that uses the `reduce()` function to find the sum of the digits of a given number.\n",
    "l=[25,36,84,12,10,15]\n",
    "res = [reduce(lambda x, y: int(x) + int(y), list(str(i))) for i in l]\n",
    "print(\"List Integer Summation : \" + str(res))"
   ]
  },
  {
   "cell_type": "code",
   "execution_count": null,
   "id": "e432dfc7-cac3-461f-95e8-57a7828e85eb",
   "metadata": {},
   "outputs": [],
   "source": [
    "'''Filter :-'''"
   ]
  },
  {
   "cell_type": "code",
   "execution_count": 31,
   "id": "dc6f1a19-0acf-43b4-9d86-a7de58744d6d",
   "metadata": {},
   "outputs": [
    {
     "name": "stdout",
     "output_type": "stream",
     "text": [
      "[60, 70, 80, 90, 60]\n"
     ]
    }
   ],
   "source": [
    "#1.\tExplain the purpose of the `filter()` function in Python and provide an example of how it can be used to filter elements from an iterable\n",
    "\n",
    "\n",
    "l2=[50,60,70,80,40,90,60]\n",
    "def check_score(n):\n",
    "    if n>=60:\n",
    "        return True\n",
    "    else:\n",
    "        return False\n",
    "per_score=list(filter(check_score,l2))\n",
    "print(per_score)"
   ]
  },
  {
   "cell_type": "code",
   "execution_count": 26,
   "id": "45791ba6-296c-4146-be9d-2d694e203dbe",
   "metadata": {},
   "outputs": [
    {
     "data": {
      "text/plain": [
       "[4, 68, 54, 88, 74]"
      ]
     },
     "execution_count": 26,
     "metadata": {},
     "output_type": "execute_result"
    }
   ],
   "source": [
    "#2.\tWrite a Python program that uses the `filter()` function to select even numbers from a list of integers.\n",
    "l3=[3,4,45,68,54,59,88,67,74]\n",
    "list(filter(lambda a:a%2==0,l3))"
   ]
  },
  {
   "cell_type": "code",
   "execution_count": 27,
   "id": "ba567ea3-e480-4d88-a76c-294fd58c9bec",
   "metadata": {},
   "outputs": [
    {
     "data": {
      "text/plain": [
       "['pw', 'pwskill']"
      ]
     },
     "execution_count": 27,
     "metadata": {},
     "output_type": "execute_result"
    }
   ],
   "source": [
    "#3.\tCreate a Python program that uses the `filter()` function to select names that start with a specific letter from a list of strings.\n",
    "l5=[\"pw\",\"pwskill\",\"santhosh\",\"data science\"]\n",
    "list(filter(lambda a:a[0]==\"p\",l5))\n"
   ]
  },
  {
   "cell_type": "code",
   "execution_count": 3,
   "id": "162de91e-0dbf-4ce5-8e87-c248c2aa5c09",
   "metadata": {},
   "outputs": [
    {
     "name": "stdout",
     "output_type": "stream",
     "text": [
      "[2, 3, 5, 11, 19]\n"
     ]
    }
   ],
   "source": [
    "#4.\tWrite a Python program that uses the `filter()` function to select prime numbers from a list of integers.\n",
    "l6=[2,3,5,8,11,15,19]\n",
    "prime_numbers=list(filter(lambda x: all(x%i!=0 for i in range(2,int(x**0.5)+1)),l6))\n",
    "print(prime_numbers)"
   ]
  },
  {
   "cell_type": "code",
   "execution_count": 4,
   "id": "df1feb94-b2af-44e9-a63b-56458bc2b43d",
   "metadata": {},
   "outputs": [
    {
     "name": "stdout",
     "output_type": "stream",
     "text": [
      "[1, 4, 5, 8, False]\n"
     ]
    }
   ],
   "source": [
    "#5.\tHow can you use the `filter()` function to remove None values from a list in Python?\n",
    "l=[1, None, 4, None, None, 5, 8, None, False]\n",
    "res=list(filter(lambda x:x is not None,l))\n",
    "print(res)"
   ]
  },
  {
   "cell_type": "code",
   "execution_count": 8,
   "id": "6b0730f1-46d7-4b4d-8905-724eac8d2dfb",
   "metadata": {},
   "outputs": [
    {
     "name": "stdout",
     "output_type": "stream",
     "text": [
      "['hello']\n"
     ]
    }
   ],
   "source": [
    "#6.\tCreate a Python program that uses `filter()` to select words longer than a certain length from a list of strings.\n",
    "items=[\"hello\",\"santhosh\",\"datascience\",\"pwskills\",\"pw\",\"row\"]\n",
    "result=list(filter(lambda x: 4<len(x)<8,items))\n",
    "print(result)"
   ]
  },
  {
   "cell_type": "code",
   "execution_count": 10,
   "id": "39cf4267-735b-4eb4-ac7c-f16ffca03a03",
   "metadata": {},
   "outputs": [
    {
     "name": "stdout",
     "output_type": "stream",
     "text": [
      "['hello', 'santhosh', 'datascience', 'pwskills']\n"
     ]
    }
   ],
   "source": [
    "#7.\tWrite a Python program that uses the `filter()` function to select elements greater than a specified threshold from a list of values.\n",
    "items=[\"hello\",\"santhosh\",\"datascience\",\"pwskills\",\"pw\",\"row\"]\n",
    "threshold=4\n",
    "result=list(filter(lambda x: len(x)>threshold,items))\n",
    "print(result)"
   ]
  },
  {
   "cell_type": "code",
   "execution_count": null,
   "id": "3651302a-f005-4c42-9e49-0f1ec3ec7f02",
   "metadata": {},
   "outputs": [],
   "source": [
    "'''Recursion:-''"
   ]
  },
  {
   "cell_type": "code",
   "execution_count": 4,
   "id": "6a5f5dd7-a251-44b4-91a7-22ac7baf41ba",
   "metadata": {},
   "outputs": [],
   "source": [
    "#1.\tExplain the concept of recursion in Python. How does it differ from iteration?\n",
    "'''Recursion is a technique in which the function calls itself in its body to solve the problem, \n",
    "typically breaking into smaller and more manageable sub-problems.\n",
    "Iteration is a technique that repetitively executes a code block until the condition is false'''"
   ]
  },
  {
   "cell_type": "code",
   "execution_count": 3,
   "id": "c31c050c-75ac-4af0-9495-0dc98c234807",
   "metadata": {},
   "outputs": [
    {
     "data": {
      "text/plain": [
       "120"
      ]
     },
     "execution_count": 3,
     "metadata": {},
     "output_type": "execute_result"
    }
   ],
   "source": [
    "#2.\tWrite a Python program to calculate the factorial of a number using recursion.\n",
    "def factorial(n):\n",
    "    if n==0:\n",
    "        return 1\n",
    "    else:\n",
    "        return n*factorial(n-1)\n",
    "factorial(5)"
   ]
  },
  {
   "cell_type": "code",
   "execution_count": 5,
   "id": "318a01db-839b-4e6e-8707-d3739047c680",
   "metadata": {},
   "outputs": [
    {
     "data": {
      "text/plain": [
       "5"
      ]
     },
     "execution_count": 5,
     "metadata": {},
     "output_type": "execute_result"
    }
   ],
   "source": [
    "#3.\tCreate a recursive Python function to find the nth Fibonacci number.\n",
    "def gen_fib(n):\n",
    "    if n<=1:\n",
    "        return n\n",
    "    else:\n",
    "        return gen_fib(n-1)+gen_fib(n-2)\n",
    "gen_fib(5)"
   ]
  },
  {
   "cell_type": "code",
   "execution_count": 14,
   "id": "33a4de7d-efcd-4122-8665-b39a8f72f628",
   "metadata": {},
   "outputs": [
    {
     "data": {
      "text/plain": [
       "20"
      ]
     },
     "execution_count": 14,
     "metadata": {},
     "output_type": "execute_result"
    }
   ],
   "source": [
    "#4.\tWrite a recursive Python function to calculate the sum of all elements in a list.\n",
    "def sum_list(l):\n",
    "    if len(l)==1:\n",
    "        return l\n",
    "    else:\n",
    "        return l[0]+sum(l[1::])\n",
    "sum_list([2,3,4,5,6])"
   ]
  },
  {
   "cell_type": "code",
   "execution_count": null,
   "id": "e9a75900-617c-4e28-94eb-0aca1bff96dd",
   "metadata": {},
   "outputs": [],
   "source": [
    "#5.\tHow can you prevent a recursive function from running indefinitely, causing a stack overflow error?\n",
    "'''The “sys” module in Python provides a function called setrecursionlimit() to modify the recursion limit in Python'''"
   ]
  },
  {
   "cell_type": "code",
   "execution_count": 17,
   "id": "4f50891d-6e36-4c3e-9882-c160c5b80336",
   "metadata": {},
   "outputs": [
    {
     "data": {
      "text/plain": [
       "5"
      ]
     },
     "execution_count": 17,
     "metadata": {},
     "output_type": "execute_result"
    }
   ],
   "source": [
    "#6.\tCreate a recursive Python function to find the greatest common divisor (GCD) of two numbers using the Euclidean algorithm.\n",
    "def gcd(a,b):\n",
    "    if a==b:\n",
    "        return a\n",
    "    elif a<b:\n",
    "        return gcd(b,a)\n",
    "    else:\n",
    "        return gcd(b,a-b)\n",
    "gcd(25,45)\n",
    "    "
   ]
  },
  {
   "cell_type": "code",
   "execution_count": 20,
   "id": "b3832534-8b91-497c-9864-116f2d53f7d1",
   "metadata": {},
   "outputs": [
    {
     "data": {
      "text/plain": [
       "'hsohtnas'"
      ]
     },
     "execution_count": 20,
     "metadata": {},
     "output_type": "execute_result"
    }
   ],
   "source": [
    "#7.\tWrite a recursive Python function to reverse a string.\n",
    "def string(s):\n",
    "    if len(s)==0:\n",
    "        return s\n",
    "    else:\n",
    "        return string(s[1:])+s[0]\n",
    "string(\"santhosh\")"
   ]
  },
  {
   "cell_type": "code",
   "execution_count": 15,
   "id": "f7e38b9a-cc2f-4484-856a-ed0f8832b1b5",
   "metadata": {},
   "outputs": [
    {
     "data": {
      "text/plain": [
       "125"
      ]
     },
     "execution_count": 15,
     "metadata": {},
     "output_type": "execute_result"
    }
   ],
   "source": [
    "#8.\tCreate a recursive Python function to calculate the power of a number (x^n).\n",
    "def power(n,k):\n",
    "    if k==0:\n",
    "        return 1\n",
    "    else:\n",
    "        return n*power(n,k-1)\n",
    "power(5,3)"
   ]
  },
  {
   "cell_type": "code",
   "execution_count": 25,
   "id": "425eb1d3-6f20-4ee0-9145-cc1a1771d1a1",
   "metadata": {},
   "outputs": [
    {
     "data": {
      "text/plain": [
       "['abc', 'acb', 'bac', 'bca', 'cab', 'cba']"
      ]
     },
     "execution_count": 25,
     "metadata": {},
     "output_type": "execute_result"
    }
   ],
   "source": [
    "#9.\tWrite a recursive Python function to find all permutations of a given string.\n",
    "def permutations(string):\n",
    "    permutation_list = []\n",
    "    if len(string)==1:\n",
    "        return string\n",
    "    else:\n",
    "        for char in string:\n",
    "            [permutation_list.append(char + a) for a in permutations(string.replace(char, \"\", 1))]\n",
    "    return permutation_list\n",
    "permutations(\"abc\")"
   ]
  },
  {
   "cell_type": "code",
   "execution_count": 3,
   "id": "0f32fca8-daa4-4306-ac21-53b46ce7b0c3",
   "metadata": {},
   "outputs": [
    {
     "name": "stdin",
     "output_type": "stream",
     "text": [
      "enter a string madam\n"
     ]
    },
    {
     "name": "stdout",
     "output_type": "stream",
     "text": [
      "The given string is palindrome\n"
     ]
    }
   ],
   "source": [
    "#10.\tWrite a recursive Python function to check if a string is a palindrome.\n",
    "def palindrome(s):\n",
    "    if len(s)<1:\n",
    "        return True\n",
    "    elif s[0]==s[-1]:\n",
    "        return palindrome(s[1:-1])\n",
    "    else:\n",
    "        return False\n",
    "a=str(input(\"enter a string\"))\n",
    "if palindrome(a)==True:\n",
    "    print(\"The given string is palindrome\")\n",
    "else:\n",
    "    print(\"The given string is not palindrome\")"
   ]
  },
  {
   "cell_type": "code",
   "execution_count": 10,
   "id": "62fa7eda-ba41-4c25-97ab-817dd14e15d6",
   "metadata": {},
   "outputs": [
    {
     "data": {
      "text/plain": [
       "[[],\n",
       " [2],\n",
       " [3],\n",
       " [2, 3],\n",
       " [4],\n",
       " [2, 4],\n",
       " [3, 4],\n",
       " [2, 3, 4],\n",
       " [5],\n",
       " [2, 5],\n",
       " [3, 5],\n",
       " [2, 3, 5],\n",
       " [4, 5],\n",
       " [2, 4, 5],\n",
       " [3, 4, 5],\n",
       " [2, 3, 4, 5]]"
      ]
     },
     "execution_count": 10,
     "metadata": {},
     "output_type": "execute_result"
    }
   ],
   "source": [
    "#11.\tCreate a recursive Python function to generate all possible combinations of a list of elements.\n",
    "l1=[2,3,4,5]\n",
    "def combinations(lst):\n",
    "    res=[]\n",
    "    if not lst:\n",
    "        return [[]]\n",
    "    for i in combinations(lst[1:]):\n",
    "        res.append(i)\n",
    "        res.append([lst[0]]+i)\n",
    "    return res\n",
    "combinations(l1)"
   ]
  },
  {
   "cell_type": "code",
   "execution_count": null,
   "id": "80e5e00b-f1a7-4513-adfd-547604aabd60",
   "metadata": {},
   "outputs": [],
   "source": [
    "'''Basics of Functions:"
   ]
  },
  {
   "cell_type": "code",
   "execution_count": null,
   "id": "773f1507-75fe-4bc5-a882-2a2d358daf55",
   "metadata": {},
   "outputs": [],
   "source": [
    "# 1.\tWhat is a function in Python, and why is it used?\n",
    "'''Python Functions is a block of statements that return the specific task. \n",
    "The idea is to put some commonly or repeatedly done tasks together and make a function so that instead of writing the same code again and again for \n",
    "different inputs, we can do the function calls to reuse code contained in it over and over again.'''"
   ]
  },
  {
   "cell_type": "code",
   "execution_count": 14,
   "id": "4c6b0769-c756-4780-8b11-24f931a73ab4",
   "metadata": {},
   "outputs": [
    {
     "data": {
      "text/plain": [
       "11"
      ]
     },
     "execution_count": 14,
     "metadata": {},
     "output_type": "execute_result"
    }
   ],
   "source": [
    "#2.\tHow do you define a function in Python? Provide an example.\n",
    "# Python Functions is a block of statements that return the specific task\n",
    "def sum_two_num(a,b):\n",
    "    return a+b\n",
    "sum_two_num(5,6)"
   ]
  },
  {
   "cell_type": "code",
   "execution_count": null,
   "id": "ee5001f3-c553-4595-82b4-b8c9669acce7",
   "metadata": {},
   "outputs": [],
   "source": [
    "#3.\tExplain the difference between a function definition and a function call.\n",
    "'''A function is a block of code that performs a specific task, \n",
    "while a function call is an expression that invokes a function and executes the code in the function.'''"
   ]
  },
  {
   "cell_type": "code",
   "execution_count": 13,
   "id": "35aa0e3b-413b-416f-a75f-51d7ab44d5d4",
   "metadata": {},
   "outputs": [
    {
     "data": {
      "text/plain": [
       "11"
      ]
     },
     "execution_count": 13,
     "metadata": {},
     "output_type": "execute_result"
    }
   ],
   "source": [
    "#4.\tWrite a Python program that defines a function to calculate the sum of two numbers and then calls the function.\n",
    "def sum_two_num(a,b):\n",
    "    return a+b\n",
    "sum_two_num(5,6)"
   ]
  },
  {
   "cell_type": "code",
   "execution_count": null,
   "id": "d7eab123-27b0-4fe7-b2e3-fec2fbeba4ab",
   "metadata": {},
   "outputs": [],
   "source": [
    "#5.\tWhat is a function signature, and what information does it typically include?\n",
    "'''A function signature provides crucial information about the types of parameters that a function can accept and the type of data it returns.\n",
    "The signature() function from the inspect module is used to determine the function signature, \n",
    "helping developers to ensure they are passing the correct types of arguments to their functions.''' "
   ]
  },
  {
   "cell_type": "code",
   "execution_count": 12,
   "id": "6f5268d4-3602-4d90-9fb6-c1f8073d76e0",
   "metadata": {},
   "outputs": [
    {
     "data": {
      "text/plain": [
       "30"
      ]
     },
     "execution_count": 12,
     "metadata": {},
     "output_type": "execute_result"
    }
   ],
   "source": [
    "#6.\tCreate a Python function that takes two arguments and returns their product.\n",
    "def product(a,b):\n",
    "    return a*b\n",
    "product(5,6)"
   ]
  },
  {
   "cell_type": "code",
   "execution_count": null,
   "id": "264736e2-d79e-4015-acb3-d0f7d98afd1e",
   "metadata": {},
   "outputs": [],
   "source": [
    "'''Function Parameters and Arguments:'''"
   ]
  },
  {
   "cell_type": "code",
   "execution_count": null,
   "id": "3d6d1e0c-5dae-40d9-8162-8ce7c76ce16a",
   "metadata": {},
   "outputs": [],
   "source": [
    "#1.\tExplain the concepts of formal parameters and actual arguments in Python functions.\n",
    "'''Formal parameters are mentioned in the function definition. \n",
    "Actual parameters(arguments) are passed during a function call. '''\n"
   ]
  },
  {
   "cell_type": "code",
   "execution_count": 8,
   "id": "a103f1ac-f445-41ac-a505-04dd2d6cd3c3",
   "metadata": {},
   "outputs": [
    {
     "name": "stdout",
     "output_type": "stream",
     "text": [
      "the sum of two numbers: 5\n",
      "the sum of two numbers: 7\n",
      "the sum of two numbers: 12\n"
     ]
    }
   ],
   "source": [
    "# 2.\tWrite a Python program that defines a function with default argument values.\n",
    "def sum_num(a=7,b=5):\n",
    "    add=a+b\n",
    "    print(\"the sum of two numbers:\",add)\n",
    "sum_num(2,3)   #function call with two arguments\n",
    "sum_num(a=2)   #function call with one argument\n",
    "sum_num()      #function call no arguments"
   ]
  },
  {
   "cell_type": "code",
   "execution_count": 9,
   "id": "c64eb5f7-4423-4eed-8450-2a6e6c701eaf",
   "metadata": {},
   "outputs": [
    {
     "name": "stdout",
     "output_type": "stream",
     "text": [
      "First name: kasula\n",
      "Last name: santhosh\n"
     ]
    }
   ],
   "source": [
    "# 3.\tHow do you use keyword arguments in Python function calls? Provide an example.\n",
    "def info(first_name,last_name):\n",
    "    print(\"First name:\",first_name)\n",
    "    print(\"Last name:\",last_name)\n",
    "info(last_name=\"santhosh\",first_name=\"kasula\")\n",
    "# Here, we have assigned names to arguments during the function call, in this the position of arguments doesn't matter."
   ]
  },
  {
   "cell_type": "code",
   "execution_count": 13,
   "id": "ae08ae60-c73d-4d58-b398-bbf6bc922da1",
   "metadata": {},
   "outputs": [
    {
     "name": "stdout",
     "output_type": "stream",
     "text": [
      "12\n",
      "15\n"
     ]
    }
   ],
   "source": [
    "#4.\tCreate a Python function that accepts a variable number of arguments and calculates their sum.\n",
    "def sum_all(*args):\n",
    "    s=0\n",
    "    for i in args:\n",
    "        s=s+i\n",
    "    print(s)\n",
    "sum_all(3,4,5)\n",
    "sum_all(1,2,3,4,5)\n",
    "        "
   ]
  },
  {
   "cell_type": "code",
   "execution_count": null,
   "id": "d3cd4a49-c3a8-4442-96b5-fef36c568b95",
   "metadata": {},
   "outputs": [],
   "source": [
    "#5.\tWhat is the purpose of the `*args` and `**kwargs` syntax in function parameter lists?\n",
    "'''syntax :  def all(*args):\n",
    "Python has an *args which allows the user to pass a multiple number of arguments to the function. Python *args allows only Positional Arguments.\n",
    "syntax:     def all(*kwargs)\n",
    "**kwargs allows us to pass a variable number of keyworded arguments to the function. Python *kwargs allows only Keyword Arguments.\n",
    "Keyword arguments are like a dictionary, which maps the value to its associated key.'''"
   ]
  },
  {
   "cell_type": "code",
   "execution_count": null,
   "id": "5f824b8c-0e57-4d0a-8228-80dfa82fcc2d",
   "metadata": {},
   "outputs": [],
   "source": [
    "'''Return Values and Scoping:\n"
   ]
  },
  {
   "cell_type": "code",
   "execution_count": 14,
   "id": "b8e847fd-0589-499e-ac15-be32c272f0e4",
   "metadata": {},
   "outputs": [
    {
     "data": {
      "text/plain": [
       "11"
      ]
     },
     "execution_count": 14,
     "metadata": {},
     "output_type": "execute_result"
    }
   ],
   "source": [
    "'''1.\tDescribe the role of the `return` statement in Python functions and provide examples.\n",
    "A return statement ends the execution of a function, and returns control to the calling function,returns the reslut to the caller.'''\n",
    "def sum_two_num(a,b):\n",
    "    return a+b\n",
    "sum_two_num(5,6)"
   ]
  },
  {
   "cell_type": "code",
   "execution_count": null,
   "id": "6e2b4375-3dcf-469b-94ee-5535090b7b81",
   "metadata": {},
   "outputs": [],
   "source": [
    "# 2.\tExplain the concept of variable scope in Python, including local and global variables.\n",
    "'''Local variables: When we declare variables inside a function, these variables will have a local scope (within the function). We cannot access \n",
    "them outside the function.These types of variables are called local variables.\n",
    "Global variables:When we declare outside of the function or in global scope is known as a global variable. We can access inside or outside of the function.'''"
   ]
  },
  {
   "cell_type": "code",
   "execution_count": 18,
   "id": "c33ca97e-8afa-42b7-975d-0bac5bb4bb74",
   "metadata": {},
   "outputs": [
    {
     "name": "stdout",
     "output_type": "stream",
     "text": [
      "the number is: 2\n"
     ]
    }
   ],
   "source": [
    "#3.\tWrite a Python program that demonstrates the use of global variables within functions.\n",
    "a=2\n",
    "def add():\n",
    "    print(\"The number is:\",a)\n",
    "add()"
   ]
  },
  {
   "cell_type": "code",
   "execution_count": 16,
   "id": "85ae4b3f-d87a-4bb5-ae05-5801b242c0b6",
   "metadata": {},
   "outputs": [],
   "source": [
    "#4.\tCreate a Python function that calculates the factorial of a number and returns it.\n",
    "def factorial(n):\n",
    "    if n==0:\n",
    "        return 1\n",
    "    else:\n",
    "        return n*factorial(n-1)\n",
    "factorial(5)"
   ]
  },
  {
   "cell_type": "code",
   "execution_count": 21,
   "id": "bb0a4fe4-03a2-404c-a7bf-9497dd55f478",
   "metadata": {},
   "outputs": [
    {
     "name": "stdout",
     "output_type": "stream",
     "text": [
      "The value of x is 12\n"
     ]
    }
   ],
   "source": [
    "#5.\tHow can you access variables defined outside a function from within the function?\n",
    "x = 10 \n",
    "def showX():\n",
    "    global x\n",
    "    x = x + 2\n",
    "    print(\"The value of x is\", x)\n",
    "    \n",
    "showX()"
   ]
  },
  {
   "cell_type": "code",
   "execution_count": null,
   "id": "c9a9c4de-1ae3-417d-a38d-5f5284fabcef",
   "metadata": {},
   "outputs": [],
   "source": [
    "'''Lambda Functions and Higher-Order Functions:"
   ]
  },
  {
   "cell_type": "code",
   "execution_count": null,
   "id": "d9ee171d-d217-45cf-8c2c-b08f8b87d64e",
   "metadata": {},
   "outputs": [],
   "source": [
    "#1.\tWhat are lambda functions in Python, and when are they typically used?\n",
    "'''Python Lambda Functions are anonymous function means that the function is without a name.To create simple expressions we use lambda function'''"
   ]
  },
  {
   "cell_type": "code",
   "execution_count": 23,
   "id": "5c82a505-dcc2-4b0e-9930-4e1969f9a3b2",
   "metadata": {},
   "outputs": [
    {
     "name": "stdout",
     "output_type": "stream",
     "text": [
      "[(3, 2), (1, 3), (5, 8)]\n"
     ]
    }
   ],
   "source": [
    "#2.\tWrite a Python program that uses lambda functions to sort a list of tuples based on the second element.\n",
    "list_tuple=[(1,3),(3,2),(5,8)]\n",
    "list_tuple.sort(key=lambda x:x[1])\n",
    "print(list_tuple)"
   ]
  },
  {
   "cell_type": "code",
   "execution_count": 24,
   "id": "536ace68-9527-40f5-bb45-1074fcee4273",
   "metadata": {},
   "outputs": [
    {
     "name": "stdout",
     "output_type": "stream",
     "text": [
      "[1, 4, 9, 16, 25]\n"
     ]
    }
   ],
   "source": [
    "#3.\tExplain the concept of higher-order functions in Python, and provide an example.\n",
    "'''Higher-order functions are functions that take a function as a parameter and/or return a function as an output.\n",
    "A few useful higher-order functions are map(), filter(), and reduce(). '''\n",
    "num=[1,2,3,4,5]\n",
    "square=map(lambda x: x**2 , num)\n",
    "print (list(square))"
   ]
  },
  {
   "cell_type": "code",
   "execution_count": 27,
   "id": "5bd7f801-66c6-4c7c-a6d7-31ef92e39327",
   "metadata": {},
   "outputs": [
    {
     "name": "stdout",
     "output_type": "stream",
     "text": [
      "[4, 6, 10, 12]\n"
     ]
    }
   ],
   "source": [
    "#4.\tCreate a Python function that takes a list of numbers and a function as arguments, applying the function to each element in the list.\n",
    "def square(n):\n",
    "    return n*2\n",
    "l=[2,3,5,6]\n",
    "res=list(map(square,l))\n",
    "print(res)"
   ]
  },
  {
   "cell_type": "code",
   "execution_count": null,
   "id": "d4cf982d-591f-4d1e-98e1-b6bf483d70fd",
   "metadata": {},
   "outputs": [],
   "source": [
    "#Built-in Functions:\n",
    "\n",
    "#1.\tDescribe the role of built-in functions like `len()`, `max()`, and `min()` in Python.\n",
    "'''len() functions returns the length of an object\n",
    "max() function returns the largest element in any iterable\n",
    "min() function returns the smallest element in any iterable"
   ]
  },
  {
   "cell_type": "code",
   "execution_count": 28,
   "id": "df459829-219a-487d-aa4d-d26fc8804982",
   "metadata": {},
   "outputs": [
    {
     "name": "stdout",
     "output_type": "stream",
     "text": [
      "[1, 4, 9, 16, 25]\n"
     ]
    }
   ],
   "source": [
    "#2.\tWrite a Python program that uses the `map()` function to apply a function to each element of a list.\n",
    "num=[1,2,3,4,5]\n",
    "square=map(lambda x: x**2 , num)\n",
    "print (list(square))"
   ]
  },
  {
   "cell_type": "code",
   "execution_count": null,
   "id": "87bb9554-0a24-45f7-8109-d7a5bd98c047",
   "metadata": {},
   "outputs": [],
   "source": [
    "#3.\tHow does the `filter()` function work in Python, and when would you use it?\n",
    "'''filter() is a built-in function that allows you to process an iterable and extract those items that satisfy a given condition.'''"
   ]
  },
  {
   "cell_type": "code",
   "execution_count": 30,
   "id": "d2a6410a-9c6b-4ac1-b14f-c1400a3e767f",
   "metadata": {},
   "outputs": [
    {
     "data": {
      "text/plain": [
       "120"
      ]
     },
     "execution_count": 30,
     "metadata": {},
     "output_type": "execute_result"
    }
   ],
   "source": [
    "# 4.\tCreate a Python program that uses the `reduce()` function to find the product of all elements in a list.\n",
    "from functools import reduce\n",
    "l=[2,3,4,5]\n",
    "reduce((lambda a,b:a*b),l)"
   ]
  },
  {
   "cell_type": "code",
   "execution_count": null,
   "id": "1b62fc6c-adaa-491f-ba4b-f435ab25a86e",
   "metadata": {},
   "outputs": [],
   "source": [
    "'''Function Documentation and Best Practices:'''\n",
    "#1.\tExplain the purpose of docstrings in Python functions and how to write them.\n",
    "'''Python docstrings are the string literals that appear right after the definition of a function, method, class, or module.\n",
    "It’s specified in source code that is used, like a comment, to document a specific segment of code.\n",
    "The docstrings are declared using ”’triple single quotes”’ or “”” triple double quotes “”” just below the class, method, or function declaration. \n",
    "All functions should have a docstring.'''"
   ]
  }
 ],
 "metadata": {
  "kernelspec": {
   "display_name": "Python 3 (ipykernel)",
   "language": "python",
   "name": "python3"
  },
  "language_info": {
   "codemirror_mode": {
    "name": "ipython",
    "version": 3
   },
   "file_extension": ".py",
   "mimetype": "text/x-python",
   "name": "python",
   "nbconvert_exporter": "python",
   "pygments_lexer": "ipython3",
   "version": "3.10.8"
  }
 },
 "nbformat": 4,
 "nbformat_minor": 5
}
